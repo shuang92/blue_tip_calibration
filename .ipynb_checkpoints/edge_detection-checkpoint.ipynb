{
 "cells": [
  {
   "cell_type": "code",
   "execution_count": 2,
   "metadata": {},
   "outputs": [],
   "source": [
    "import numpy as np, arviz as az, matplotlib.pyplot as plt\n",
    "import pystan, os, pygtc, pickle\n",
    "from astropy.table import Table\n",
    "from tabulate import tabulate     ## optional\n",
    "from scipy.special import erf\n",
    "from scipy.stats import norm, gaussian_kde\n",
    "os.environ['STAN_NUM_THREADS'] = \"2\"  ## each chain uses 1 thread"
   ]
  },
  {
   "cell_type": "markdown",
   "metadata": {},
   "source": [
    "### The Intrinsic Model\n",
    "\n",
    "$$ \\large\n",
    "P(x) = \\frac{A}{2}\\mathcal{N}(x_0, \\sigma_p)[1 + \\mathrm{Erf}(\\frac{x-x_0}{\\sqrt{2}\\sigma_{int}})] + F\n",
    "$$\n",
    "\n",
    "\n",
    "### The Convolved Model\n",
    "$$ \\large\n",
    "\\mathcal{L}_i(x_i) = \\frac{A}{2}\\mathcal{N}(x_0, \\sigma_p)[1 + \\mathrm{Erf}(\\frac{x_i-x_0}{\\sqrt{2}\\Sigma_i})] + F\n",
    "$$\n",
    "\n",
    "#### Data set is:\n",
    "\n",
    "$\\large x_i$, the u-g color of each star;\n",
    "\n",
    "$\\large \\sigma_i$, the measurement uncertainties on u-g color.\n",
    "\n",
    "#### Free Parameters are: \n",
    "\n",
    "$\\large x_0$, the edge u-g color of MSTO; \n",
    "\n",
    "$\\large \\sigma_{int}$, the intrinsic width of the edge;\n",
    "\n",
    "$\\large \\sigma_p$, the width of MSTO u-g distribution.\n",
    "\n",
    "#### Transformed Parameters are: \n",
    "\n",
    "$\\large \\Sigma_i^2 = \\sigma_{int}^2 + \\sigma_i^2$ is the effective width;\n",
    "\n",
    "$\\large F$ is the floor probability DENSITY, set by the fraction of stars bluer than $\\large x_0$;\n",
    "\n",
    "$\\large A$ is the normalization factor of the Gaussian, which is determined by:\n",
    "\n",
    "$$ \\large\n",
    "\\int_a^b P(x)\\mathrm{d}x= 1,\n",
    "$$\n",
    "\n",
    "or (assuming $\\large \\sigma_{int}$ is small), \n",
    "\n",
    "$$ \\large\n",
    "A = \\frac{2(1-F(b-a))}{\\mathrm{Erf}(\\frac{b-x_0}{\\sqrt{2}\\sigma_p})}.\n",
    "$$\n",
    "\n",
    "\n",
    "\n",
    "\n"
   ]
  },
  {
   "cell_type": "markdown",
   "metadata": {},
   "source": [
    "### defining the model with fixed F"
   ]
  },
  {
   "cell_type": "code",
   "execution_count": 3,
   "metadata": {},
   "outputs": [],
   "source": [
    "model = \"\"\"\n",
    "data {\n",
    "  int J;                         // number of stars \n",
    "  real F;                        // probability density of stars bluer than edge\n",
    "  real a;                        // lower limit of integral over u-g\n",
    "  real b;                        // upper limit of integral over u-g\n",
    "  vector[J] x;                   // u-g color of stars in the field\n",
    "  vector[J] sigma;               // measurement uncertainties\n",
    "}\n",
    "\n",
    "parameters {\n",
    "  real <lower=0.6, upper=1.1> x0;           // u-g color of the edge\n",
    "  real <lower=0, upper=0.1> sigma_int;      // intrinsic scatter of edge\n",
    "  real <lower=0, upper=1.0> sigma_p;        // width of the peak distribution\n",
    "}\n",
    "\n",
    "transformed parameters {\n",
    "  real A;                                   // normalization factor\n",
    "  vector[J] eff_sigma;                      // effective scatter\n",
    "  \n",
    "  eff_sigma = sqrt(square(sigma) + square(sigma_int));\n",
    "  A = 2*(1 - F*(b-a))/erf( (b-x0)/(sqrt2()*sigma_p) );\n",
    "}\n",
    "\n",
    "model {\n",
    "  vector[J] p1 = A*exp(-square(x-x0) / (2*square(sigma_p)) )  / (sqrt(2*pi())*sigma_p);\n",
    "  vector[J] p2 = 0.5 + 0.5*erf( (x-x0) ./ (sqrt2()*eff_sigma) ); \n",
    "  target += log(p1 .* p2 + F);\n",
    "} \"\"\""
   ]
  },
  {
   "cell_type": "markdown",
   "metadata": {},
   "source": [
    "### defining the model (for plotting purpose only)"
   ]
  },
  {
   "cell_type": "code",
   "execution_count": 4,
   "metadata": {},
   "outputs": [],
   "source": [
    "def int_pdf(x, x0, sigma_int, sigma_p, F, A):\n",
    "\n",
    "    p1 = A*norm.pdf(x, loc=x0, scale=sigma_p)\n",
    "    p2 = (1 + erf( (x-x0) / (np.sqrt(2) * sigma_int) ) ) / 2\n",
    "    \n",
    "    return p1*p2 + F\n",
    "\n",
    "def conv_pdf(x, sigma, x0, sigma_int, sigma_p, F, A):\n",
    "\n",
    "    eff_sigma = np.sqrt(sigma**2 + sigma_int**2)\n",
    "    p1 = A*norm.pdf(x, loc=x0, scale=sigma_p)\n",
    "    p2 = (1 + erf( (x-x0) / (np.sqrt(2) * eff_sigma) ) ) / 2\n",
    "    \n",
    "    return p1*p2 + F"
   ]
  },
  {
   "cell_type": "markdown",
   "metadata": {},
   "source": [
    "### reading data"
   ]
  },
  {
   "cell_type": "code",
   "execution_count": 5,
   "metadata": {},
   "outputs": [],
   "source": [
    "input = './test_DECam.fits'\n",
    "\n",
    "### u-g preselection; Table 3 in paper ####\n",
    "a = 0.5\n",
    "b = 2.0\n",
    "\n",
    "data = Table.read(input, format='fits')\n",
    "\n",
    "ind, = np.where( (data['gmag'] > 18.5) & (data['gmag'] < 21) & (data['uerr'] < 0.1) & (data['gerr'] < 0.1) \\\n",
    "                & (data['umag'] - data['gmag'] > a) & (data['umag'] - data['gmag'] < b) )\n",
    "data = data[ind]\n",
    "\n",
    "x = data['umag'] - data['gmag']\n",
    "sigma = np.sqrt( data['uerr']**2 + data['gerr']**2)\n",
    "\n",
    "## sort x and sort sigma according to x\n",
    "ind_sort = x.argsort()\n",
    "x = x[ind_sort]\n",
    "sigma = sigma[ind_sort]\n",
    "\n",
    "### Floor interval for DECam is 0.5-0.8; Table 3 in paper ###\n",
    "J = len(x)\n",
    "F = np.sum( x < 0.8 ) / (0.8-a) / J\n",
    "\n",
    "data_set = {'J':J, 'F':F, 'a':a, 'b':b, 'x':x, 'sigma':sigma}\n",
    "\n"
   ]
  },
  {
   "cell_type": "markdown",
   "metadata": {},
   "source": [
    "### compile the stan C++ program"
   ]
  },
  {
   "cell_type": "code",
   "execution_count": null,
   "metadata": {},
   "outputs": [],
   "source": [
    "if 1:\n",
    "    \n",
    "    extra_compile_args = ['-pthread', '-DSTAN_THREADS']\n",
    "    \n",
    "    sm = pystan.StanModel(model_code=model, extra_compile_args=extra_compile_args)\n",
    "    \n",
    "    with open('edge_model.pkl', 'wb') as f:\n",
    "    pickle.dump(sm, f)"
   ]
  },
  {
   "cell_type": "markdown",
   "metadata": {},
   "source": [
    "### saving the model"
   ]
  },
  {
   "cell_type": "code",
   "execution_count": null,
   "metadata": {},
   "outputs": [],
   "source": []
  },
  {
   "cell_type": "markdown",
   "metadata": {},
   "source": [
    "### reading the model"
   ]
  },
  {
   "cell_type": "code",
   "execution_count": null,
   "metadata": {},
   "outputs": [],
   "source": [
    "sm = pickle.load(open('edge_model.pkl', 'rb'))"
   ]
  },
  {
   "cell_type": "markdown",
   "metadata": {},
   "source": [
    "### run the sampler"
   ]
  },
  {
   "cell_type": "code",
   "execution_count": null,
   "metadata": {},
   "outputs": [],
   "source": [
    "# each dictionary for a chain\n",
    "# guess = [{'D':0.5, 'C':0.5, 'simga_int':0.01}, {'D':0.6, 'C':0.6, 'simga_int':0.02}, \n",
    "#         {'D':0.7, 'C':0.7, 'simga_int':0.03}, {'D':0.8, 'C':0.8, 'simga_int':0.04}]\n",
    "\n",
    "guess = 'random'\n",
    "fit = sm.sampling(data=data_set, init=guess, iter=2000, chains=6, n_jobs=12)"
   ]
  },
  {
   "cell_type": "code",
   "execution_count": null,
   "metadata": {
    "scrolled": true
   },
   "outputs": [],
   "source": [
    "print(fit.stansummary(pars=['x0', 'sigma_int', 'sigma_p', 'A'], digits_summary=4))"
   ]
  },
  {
   "cell_type": "markdown",
   "metadata": {},
   "source": [
    "### walker traces"
   ]
  },
  {
   "cell_type": "code",
   "execution_count": null,
   "metadata": {
    "scrolled": false
   },
   "outputs": [],
   "source": [
    "az.plot_trace(fit, var_names=['x0', 'sigma_int', 'sigma_p', 'A'], \\\n",
    "              chain_prop='color', \\\n",
    "              compact_prop={\"ls\":\":\", 'lw':[1]*4})"
   ]
  },
  {
   "cell_type": "markdown",
   "metadata": {},
   "source": [
    "### getting walker data"
   ]
  },
  {
   "cell_type": "code",
   "execution_count": null,
   "metadata": {},
   "outputs": [],
   "source": [
    "post = fit.extract()\n",
    "\n",
    "var_names = ['x0', 'sigma_int', 'sigma_p', 'A']\n",
    "var_dict = {var:post[var] for var in var_names}\n",
    "\n",
    "chains = np.transpose(np.array([var_dict[var] for var in var_names]))\n",
    "np.savetxt('test_DECam.chains', chains)"
   ]
  },
  {
   "cell_type": "markdown",
   "metadata": {},
   "source": [
    "### print error bars"
   ]
  },
  {
   "cell_type": "code",
   "execution_count": null,
   "metadata": {},
   "outputs": [],
   "source": [
    "digits = 4\n",
    "var_16 = {var: np.round(np.percentile(var_dict[var],16), decimals=digits) for var in var_names}\n",
    "var_50 = {var: np.round(np.percentile(var_dict[var],50), decimals=digits) for var in var_names}\n",
    "var_84 = {var: np.round(np.percentile(var_dict[var],84), decimals=digits) for var in var_names}\n",
    "\n",
    "res_table = [[var, var_50[var], var_50[var] - var_16[var], var_84[var] - var_50[var] ] for var in var_names]\n",
    "\n",
    "print( tabulate(res_table, headers = ['Parameters', 'Values', 'Error_low', 'Error_high']) )"
   ]
  },
  {
   "cell_type": "markdown",
   "metadata": {},
   "source": [
    " ### triangle plot using pygtc"
   ]
  },
  {
   "cell_type": "code",
   "execution_count": null,
   "metadata": {},
   "outputs": [],
   "source": [
    "fig = pygtc.plotGTC(chains = chains, \n",
    "                   #chainLabels = ['North and South'],\n",
    "                   paramNames = var_names,\n",
    "                   #paramRanges = [(0.045, 0.105), (0.76, 0.82), (0.008,0.018)],\n",
    "                   customTickFont = {'size':10},\n",
    "                   customLabelFont = {'size':14},\n",
    "                   customLegendFont = {'size':14},\n",
    "                   colorsOrder = ['blues', 'oranges','purples'], \n",
    "                   # ['greens', 'reds',  'browns', 'pinks', 'grays', 'yellows', 'cyans']\n",
    "                   figureSize=8)"
   ]
  },
  {
   "cell_type": "markdown",
   "metadata": {},
   "source": [
    "### plot model"
   ]
  },
  {
   "cell_type": "code",
   "execution_count": null,
   "metadata": {
    "scrolled": false
   },
   "outputs": [],
   "source": [
    "fig = plt.figure(figsize=(10, 6))\n",
    "ax = plt.subplot(111)\n",
    "ax.set_xlabel('DECam u - g', fontsize=14)\n",
    "ax.set_ylabel('Number/Likelihood', fontsize=14)\n",
    "\n",
    "x0, sigma_int, sigma_p, A = [var_50[var] for var in var_names]\n",
    "x_grid = np.linspace(x.min(), x.max(), 1000)\n",
    "\n",
    "n, bins, patches = ax.hist(x, bins='auto', alpha=0.5)\n",
    "\n",
    "bin_width = bins[1] - bins[0]\n",
    "\n",
    "S = len(x) * bin_width\n",
    "\n",
    "ax.plot(x_grid, S*int_pdf(x_grid, x0, sigma_int, sigma_p, F, A),'b', label=r'Intrinsic Model')\n",
    "ax.plot(x, S*conv_pdf(x, sigma, x0, sigma_int, sigma_p, F, A), 'r.', markersize=2, label=r'Convolved Model')\n",
    "\n",
    "ax.legend(prop={'size': 14})"
   ]
  },
  {
   "cell_type": "markdown",
   "metadata": {},
   "source": [
    "### summary statistics from the chains;\n",
    "#### to find mode and 1$\\sigma$ uncertainty from the 1d posterior distributions\n",
    "#### works for non-gaussian or truncated posteriors too\n"
   ]
  },
  {
   "cell_type": "code",
   "execution_count": null,
   "metadata": {},
   "outputs": [],
   "source": [
    "def find_area(x_grid, pdf, pdf_roll, bar, peak_ind, bin_width):\n",
    "\n",
    "    area = []\n",
    "    diff_product = (pdf-bar) * (pdf_roll-bar)\n",
    "    cross_id, = np.where( diff_product < 0 )\n",
    "\n",
    "    left_ids = cross_id[ cross_id <= peak_ind ]\n",
    "    right_ids = cross_id[ cross_id > peak_ind ]\n",
    "\n",
    "    if np.sum( left_ids ) == 0:\n",
    "        left_ids = [0]                         ## open pdf on the left; parameter hitting lower limit\n",
    "\n",
    "    if np.sum( right_ids ) == 0:\n",
    "        right_ids = [len(pdf) - 2]             ## open pdf on the right; parameter hitting higher limit\n",
    "\n",
    "    for l_id in left_ids:\n",
    "        for r_id in right_ids:\n",
    "\n",
    "            area.append( {'x_left':x_grid[l_id], 'x_right':x_grid[r_id], \\\n",
    "                'dp_left':(pdf[l_id+1]-pdf[l_id])/bin_width, 'dp_right':(pdf[r_id+1]-pdf[r_id])/bin_width, \\\n",
    "                'area':np.sum( pdf[l_id:r_id]) * bin_width} )\n",
    "\n",
    "            if l_id == 0:\n",
    "              area[-1]['dp_left'] = np.inf\n",
    "\n",
    "            if r_id == len(pdf) - 2:\n",
    "              area[-1]['dp_right'] = -np.inf\n",
    "\n",
    "    return area\n",
    "\n",
    "def find_mode(x_grid, pdf, pdf_roll, bar_t, bar_b, layer='0'):\n",
    "\n",
    "    peak_ind, = np.where( pdf == pdf.max())\n",
    "    x_best = x_grid[peak_ind[0]]\n",
    "\n",
    "    bin_width = x_grid[1] - x_grid[0]\n",
    "    sig1 = 0.6827               ## 1-sigma area\n",
    "    eps_answ = 1e-3\n",
    "    eps_stop = 1e-4\n",
    "\n",
    "    bar = (bar_t + bar_b) / 2\n",
    "\n",
    "    ## search for bar-crossing, calculate area in-between\n",
    "    area = find_area(x_grid, pdf, pdf_roll, bar, peak_ind, bin_width)\n",
    "    \n",
    "    print('branch on the tree:', layer)\n",
    "    print('bar height:', bar)\n",
    "    print('area in between:', area)\n",
    "    print('')\n",
    "\n",
    "    move_up = False\n",
    "    move_dn = False\n",
    "\n",
    "    found_in_up = False\n",
    "    found_in_dn = False\n",
    "\n",
    "    for A in area:\n",
    "\n",
    "        if (np.abs(A['area'] - sig1) < eps_answ):\n",
    "            print('Eureka!', layer, A)\n",
    "            return [x_best, A['x_left'], A['x_right'], True]\n",
    "\n",
    "        else:\n",
    "            if (A['area'] > sig1):   ## want to decrease area\n",
    "\n",
    "                if (A['dp_left'] > 0) and (A['dp_right'] < 0):\n",
    "                    move_up = move_up or True\n",
    "\n",
    "                elif (A['dp_left'] < 0) and (A['dp_right'] > 0):\n",
    "                    move_dn = move_dn or True\n",
    "\n",
    "                elif (A['dp_left'] < 0) and (A['dp_right'] < 0):\n",
    "                    move_up = move_up or (np.abs(A['dp_left']) > np.abs(A['dp_right']))\n",
    "                    move_dn = move_dn or (np.abs(A['dp_left']) < np.abs(A['dp_right']))\n",
    "\n",
    "                elif (A['dp_left'] > 0) and (A['dp_right'] > 0):\n",
    "                    move_up = move_up or (np.abs(A['dp_left']) < np.abs(A['dp_right']))\n",
    "                    move_dn = move_dn or (np.abs(A['dp_left']) > np.abs(A['dp_right']))\n",
    "\n",
    "            else:                   ## want to increase area\n",
    "\n",
    "                if (A['dp_left'] > 0) and (A['dp_right'] < 0):\n",
    "                    move_dn = move_dn or True\n",
    "\n",
    "                elif (A['dp_left'] < 0) and (A['dp_right'] > 0):\n",
    "                    move_up = move_up or True\n",
    "\n",
    "                elif (A['dp_left'] < 0) and (A['dp_right'] < 0):\n",
    "                    move_up = move_up or (np.abs(A['dp_left']) < np.abs(A['dp_right']))\n",
    "                    move_dn = move_dn or (np.abs(A['dp_left']) > np.abs(A['dp_right']))\n",
    "\n",
    "                elif (A['dp_left'] > 0) and (A['dp_right'] > 0):\n",
    "                    move_up = move_up or (np.abs(A['dp_left']) > np.abs(A['dp_right']))\n",
    "                    move_dn = move_dn or (np.abs(A['dp_left']) < np.abs(A['dp_right']))\n",
    "\n",
    "    ## dead-end; hope is at other branch(es)\n",
    "    if (bar_t - bar < eps_stop) or (bar - bar_b < eps_stop):\n",
    "        print('Dead End!')\n",
    "        return [-1,-1,-1,False]\n",
    "\n",
    "    if move_up:\n",
    "        layer += 'u'\n",
    "        x_best_up, x_low_up, x_high_up, found_in_up = find_mode(x_grid, pdf, pdf_roll, bar_t, bar, layer=layer)\n",
    "        if found_in_up:\n",
    "            return [x_best, x_low_up, x_high_up, True]\n",
    "\n",
    "    if move_dn:\n",
    "        layer += 'd'\n",
    "        x_best_dn, x_low_dn, x_high_dn, found_in_dn = find_mode(x_grid, pdf, pdf_roll, bar, bar_b, layer=layer)\n",
    "        if found_in_dn:\n",
    "            return [x_best, x_low_dn, x_high_dn, True]\n",
    "\n",
    "    if ~(move_up or move_dn):\n",
    "        print('not moving?')\n",
    "        return [-1,-1,-1,False]\n",
    "\n",
    "    return [-1,-1,-1,False]"
   ]
  },
  {
   "cell_type": "code",
   "execution_count": null,
   "metadata": {},
   "outputs": [],
   "source": [
    "chains = np.loadtxt('test_DECam.chains')\n",
    "x = chains[:,1]   ## x is x_0\n",
    "x_grid = np.linspace(x.min(), x.max(), 30000)"
   ]
  },
  {
   "cell_type": "code",
   "execution_count": null,
   "metadata": {},
   "outputs": [],
   "source": [
    "kde = gaussian_kde(x)\n",
    "pdf = kde.evaluate(x_grid)"
   ]
  },
  {
   "cell_type": "code",
   "execution_count": null,
   "metadata": {},
   "outputs": [],
   "source": [
    "## shift the elements by 1 index; used to find roots of bar cross pdf\n",
    "pdf_roll = np.roll(pdf, -1)"
   ]
  },
  {
   "cell_type": "code",
   "execution_count": null,
   "metadata": {},
   "outputs": [],
   "source": [
    "## find the mode value of posterios;\n",
    "## remove the last element due to shifting\n",
    "res = find_mode(x_grid[:-1], pdf[:-1], pdf_roll[:-1], pdf.max(), 0, layer='0')"
   ]
  },
  {
   "cell_type": "code",
   "execution_count": null,
   "metadata": {},
   "outputs": [],
   "source": [
    "## res = [x_best, x_left, x_right, finish_flag]\n",
    "print(res)"
   ]
  },
  {
   "cell_type": "code",
   "execution_count": null,
   "metadata": {},
   "outputs": [],
   "source": [
    "fig = plt.figure(figsize=(10, 6))\n",
    "ax = plt.subplot(111)\n",
    "\n",
    "ax.hist(x, bins='auto', density=True, label='MCMC Samples')\n",
    "ax.set_xlabel('x0', fontsize=14)\n",
    "ax.set_ylabel('(Un-normalized) Posterior ', fontsize=14)\n",
    "\n",
    "ax.plot(x_grid, pdf)\n",
    "ax.plot([res[0]]*2, [0,  kde.evaluate(res[0])], 'r--', lw=3, label='mode')\n",
    "ax.plot([res[1]]*2, [0,  kde.evaluate(res[1])], 'g--', lw=3, label=r'lower 1$\\sigma$')\n",
    "ax.plot([res[2]]*2, [0,  kde.evaluate(res[2])], 'g--', lw=3, label=r'upper 1$\\sigma$')\n",
    "\n",
    "ax.legend(prop={'size':14})"
   ]
  },
  {
   "cell_type": "code",
   "execution_count": null,
   "metadata": {},
   "outputs": [],
   "source": []
  }
 ],
 "metadata": {
  "kernelspec": {
   "display_name": "Python 3",
   "language": "python",
   "name": "python3"
  },
  "language_info": {
   "codemirror_mode": {
    "name": "ipython",
    "version": 3
   },
   "file_extension": ".py",
   "mimetype": "text/x-python",
   "name": "python",
   "nbconvert_exporter": "python",
   "pygments_lexer": "ipython3",
   "version": "3.8.8"
  }
 },
 "nbformat": 4,
 "nbformat_minor": 4
}
